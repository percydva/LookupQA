{
 "cells": [
  {
   "cell_type": "markdown",
   "id": "4972b716-f84a-4235-91a7-9edc3f7d9371",
   "metadata": {},
   "source": [
    "## Import the models"
   ]
  },
  {
   "cell_type": "code",
   "execution_count": 12,
   "id": "c6fe0653-7e7b-47e4-8ffa-877b8790ee15",
   "metadata": {},
   "outputs": [],
   "source": [
    "from luqa import DocumentReader, DocumentRetriever, LookupQA"
   ]
  },
  {
   "cell_type": "markdown",
   "id": "bb89a0e4-5d58-479c-a5ca-d25b13f28082",
   "metadata": {},
   "source": [
    "### Document Reader: BERT and ALBERT"
   ]
  },
  {
   "cell_type": "code",
   "execution_count": 3,
   "id": "216e40f5-8b09-48e5-b291-76ba48c1c663",
   "metadata": {},
   "outputs": [],
   "source": [
    "reader_bert = DocumentReader(pretrained_path='./reader/bert-base-uncased/', model_out='reader/bert-base-uncased')\n",
    "reader_albert = DocumentReader(pretrained_path='./reader/albert-base-v2/', model_out='reader/albert-base-v2')\n",
    "reader = {'bert-base-uncased': reader_bert, 'albert-base-v2': reader_albert}"
   ]
  },
  {
   "cell_type": "markdown",
   "id": "e124302c-f4e0-48b6-b580-069dcdbc166c",
   "metadata": {},
   "source": [
    "### Document Retriever: Wikipedia API \n",
    "We examine 2 retriever models, given the question and the API searches for articles that are related to the question:\n",
    "1. Model that takes 1 first full wikipedia article.\n",
    "2. Model that takes summary of the first article.\n",
    "\n",
    "Notice that number of wikipedia pages retrieved can be modified by changing the variable n_pages in the DocumentRetriever() model, while setting the boolean variable to True or False will result in retrieving the full page or just the summary of the article."
   ]
  },
  {
   "cell_type": "code",
   "execution_count": 13,
   "id": "c24dcef1-ba27-48cb-a42a-d39c351ad244",
   "metadata": {},
   "outputs": [],
   "source": [
    "retriever_1_full = DocumentRetriever(n_pages=1, summary=False)\n",
    "retriever_1_summary = DocumentRetriever(n_pages=1, summary=True)\n",
    "retriever = {'1_full' : retriever_1_full, \n",
    "             '1_summary' : retriever_1_summary}"
   ]
  },
  {
   "cell_type": "markdown",
   "id": "672984d9-850b-48a9-8a5b-33cd78ef1f50",
   "metadata": {},
   "source": [
    "#### sample question:"
   ]
  },
  {
   "cell_type": "code",
   "execution_count": 6,
   "id": "5463c1f7-e983-4df2-b27c-83dd58a98d13",
   "metadata": {},
   "outputs": [],
   "source": [
    "question = 'What discipline did Winkelmann create?'"
   ]
  },
  {
   "cell_type": "markdown",
   "id": "8c113a90-820d-4aaa-9b4b-8757ab01bfd0",
   "metadata": {},
   "source": [
    "### Full end-to-end model: LookupQA\n",
    "We want to examine the full model on a specific question, given BERT and ALBERT as the Document Reader, while the Document Retriever takes context using Wikipedia API"
   ]
  },
  {
   "cell_type": "code",
   "execution_count": 14,
   "id": "e417ec0e-50cb-485a-b41d-60c8904400c8",
   "metadata": {},
   "outputs": [
    {
     "data": {
      "text/plain": [
       "'art history'"
      ]
     },
     "execution_count": 14,
     "metadata": {},
     "output_type": "execute_result"
    }
   ],
   "source": [
    "luqa_bert_1_full = LookupQA(retriever=retriever['1_full'], reader=reader['bert-base-uncased'])\n",
    "luqa_bert_1_full.get_answer(question=question)"
   ]
  },
  {
   "cell_type": "code",
   "execution_count": 15,
   "id": "2d922f48-78f2-486c-b453-a60f86b2e5d1",
   "metadata": {},
   "outputs": [
    {
     "data": {
      "text/plain": [
       "'archaeology.'"
      ]
     },
     "execution_count": 15,
     "metadata": {},
     "output_type": "execute_result"
    }
   ],
   "source": [
    "luqa_albert_1_full = LookupQA(retriever=retriever['1_full'], reader=reader['albert-base-v2'])\n",
    "luqa_albert_1_full.get_answer(question=question)"
   ]
  },
  {
   "cell_type": "code",
   "execution_count": 16,
   "id": "f0d0c934-0853-40d9-a123-8c0b6d252c2b",
   "metadata": {},
   "outputs": [
    {
     "data": {
      "text/plain": [
       "'art history'"
      ]
     },
     "execution_count": 16,
     "metadata": {},
     "output_type": "execute_result"
    }
   ],
   "source": [
    "luqa_bert_1_summary = LookupQA(retriever=retriever['1_summary'], reader=reader['bert-base-uncased'])\n",
    "luqa_bert_1_summary.get_answer(question=question)"
   ]
  },
  {
   "cell_type": "code",
   "execution_count": 17,
   "id": "5a342563-7279-4ecf-96e4-ba4038891917",
   "metadata": {},
   "outputs": [
    {
     "data": {
      "text/plain": [
       "'scientific archaeology'"
      ]
     },
     "execution_count": 17,
     "metadata": {},
     "output_type": "execute_result"
    }
   ],
   "source": [
    "luqa_albert_1_summary = LookupQA(retriever=retriever['1_summary'], reader=reader['albert-base-v2'])\n",
    "luqa_albert_1_summary.get_answer(question=question)"
   ]
  },
  {
   "cell_type": "markdown",
   "id": "f8d1d46a-7a89-4185-a94c-a0151074a46c",
   "metadata": {},
   "source": [
    "### Analysis\n",
    "- BERT models:\n",
    "\n",
    "The models with BERT as the Document Reader both gave out 'art history' as the answer for the question, which is not the same as the given answer 'scientific archaeology' in the SQuAD 2.0 dataset. However, by examining the question and the Wikipedia article about Winkelmann, we observed that the answer 'art history' is not necessarily wrong. We suspect this behaviour occurred because the model weighted 'art history' more than 'scientific archaeology' in this particular context.\n",
    "\n",
    "- ALBERT models:\n",
    "\n",
    "The 1 full page model using ALBERT gave 'archaeology' as the answer, which is also partially correct. However, the 1 summary page model correctly output the answer 'scientific archaeology'. We suspect that by giving a more narrowed and precised context, the model will output a more accurate answer. "
   ]
  },
  {
   "cell_type": "markdown",
   "id": "d54b4009-647e-4822-8763-934dcd8b2a99",
   "metadata": {},
   "source": []
  }
 ],
 "metadata": {
  "environment": {
   "kernel": "python3",
   "name": "pytorch-gpu.1-9.m82",
   "type": "gcloud",
   "uri": "gcr.io/deeplearning-platform-release/pytorch-gpu.1-9:m82"
  },
  "kernelspec": {
   "display_name": "Python 3",
   "language": "python",
   "name": "python3"
  },
  "language_info": {
   "codemirror_mode": {
    "name": "ipython",
    "version": 3
   },
   "file_extension": ".py",
   "mimetype": "text/x-python",
   "name": "python",
   "nbconvert_exporter": "python",
   "pygments_lexer": "ipython3",
   "version": "3.9.7"
  }
 },
 "nbformat": 4,
 "nbformat_minor": 5
}
